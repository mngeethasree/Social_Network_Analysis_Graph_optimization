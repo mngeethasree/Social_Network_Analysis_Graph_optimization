{
 "cells": [
  {
   "cell_type": "markdown",
   "metadata": {
    "id": "VlEGcH7ke59T"
   },
   "source": [
    "# Project : Social Network Analysis\n",
    "\n",
    "Author: Geethasree Madiraju Nagaraju  \n",
    "Date: 05/21/2023\n"
   ]
  },
  {
   "cell_type": "markdown",
   "metadata": {},
   "source": [
    "# Project Background\n",
    "Online social networks have become ubiquitous in our society. Although the first such network is\n",
    "hard to determine, it is commonly believed to have been the website SixDegrees which was stared\n",
    "in 1997 and lasted approximately 4 years. From this website the social media craze was born,\n",
    "with Friendster, Myspace, LinkedIn, Facebook, Twitter, and many others spawning and growing in\n",
    "use and popularity since then, connecting people from all over the world in ways never previously\n",
    "imagined.\n",
    "Social networks are not just used for connecting people —they have become one of the main mechanisms for companies to reach customers through targeted marketing, recruiting, increasing company\n",
    "credibility, increasing the quality of feedback on products on services, among many others. These\n",
    "tasks, and many others, rely on Social Network Analysis (SNA), which, according to Wikipedia1\n",
    ",\n",
    "can be defined as ‘the process of investigating social structures through the use of networks and\n",
    "network theories.’\n",
    "In this project, you will be given two social network networks, one small and one large, and be asked\n",
    "to build spreadsheet models to solve some problems some typically SNA problem. The files are in\n",
    "Excel file SocialNetworks.xlsx in sheets Small and Large. The Small sheet contains a social\n",
    "network with 25 individuals and the Large sheet contains a social network with 50 individuals. For\n",
    "each individuals, in sequence, the links that they have in the network are given. For example, in\n",
    "the Large network, individual 9 is connected with individuals 7,8,26, and 29. You are to answer\n",
    "each of the following questions for each of the networks.\n"
   ]
  },
  {
   "cell_type": "code",
   "execution_count": null,
   "metadata": {
    "colab": {
     "base_uri": "https://localhost:8080/"
    },
    "id": "dv3rOoRFfEbp",
    "outputId": "cda444fd-78d0-44b5-846e-a1b4d4bb7f36"
   },
   "outputs": [],
   "source": [
    "import sys\n",
    "import os\n",
    " \n",
    "if 'google.colab' in sys.modules:\n",
    "    !pip install idaes-pse --pre\n",
    "    !idaes get-extensions --to ./bin\n",
    "    os.environ['PATH'] += ':bin'\n",
    "\n",
    "import numpy as np\n",
    "import pandas as pd\n",
    "import math\n",
    "import matplotlib.pyplot as plt\n",
    "from pyomo.environ import *"
   ]
  },
  {
   "cell_type": "code",
   "execution_count": null,
   "metadata": {
    "colab": {
     "base_uri": "https://localhost:8080/"
    },
    "id": "d_AHTWe4yZTX",
    "outputId": "8ef78e94-f267-46dc-88c7-784d5f51d7ed"
   },
   "outputs": [],
   "source": [
    "from google.colab import drive\n",
    "drive.mount('/content/drive')\n",
    "data_path = \"/content/drive/MyDrive/Colab Notebooks/SocialNetworks.xlsx\""
   ]
  },
  {
   "cell_type": "code",
   "execution_count": null,
   "metadata": {
    "colab": {
     "base_uri": "https://localhost:8080/"
    },
    "id": "7P7Y3UsTadma",
    "outputId": "2997c66a-8f38-4806-f4a8-fcb3d0c7fd41"
   },
   "outputs": [],
   "source": [
    "# Read Graph data from xlsx into Adjacency Matrix\n",
    "small_network = pd.read_excel(data_path,sheet_name='Small',header=None)\n",
    "large_network = pd.read_excel(data_path,sheet_name='Large',header=None)\n",
    "n_individuals_small = small_network.shape[0]\n",
    "n_individuals_large = large_network.shape[0]\n",
    "adj_mat_small = np.zeros((n_individuals_small,n_individuals_small))\n",
    "adj_mat_large = np.zeros((n_individuals_large,n_individuals_large))\n",
    "print(small_network.shape)\n",
    "print(large_network.shape)"
   ]
  },
  {
   "cell_type": "code",
   "execution_count": null,
   "metadata": {
    "id": "FcvpKVsSUBVe"
   },
   "outputs": [],
   "source": [
    "# Read into Adjacency Matrix - small network\n",
    "for i in range(n_individuals_small):\n",
    "  for j in [2,3,4,5,6]:\n",
    "    conn = small_network.loc[i][j]\n",
    "    if math.isnan(conn):\n",
    "      break\n",
    "    else:\n",
    "      adj_mat_small[i,int(conn-1)] = 1\n",
    "\n",
    "# Read into Adjacency Matrix - large network\n",
    "for i in range(n_individuals_large):\n",
    "  for j in [2,3,4,5,6,7,8,9]:\n",
    "    conn = large_network.loc[i][j]\n",
    "    if math.isnan(conn):\n",
    "      break\n",
    "    else:\n",
    "      adj_mat_large[i,int(conn-1)] = 1\n"
   ]
  },
  {
   "cell_type": "markdown",
   "metadata": {
    "id": "gYLCJ3BCd1VV"
   },
   "source": [
    "# Problem 1.a\n",
    "(a) One of the main metrics used to describe a social network is the density — that is, the\n",
    "number of links in the network over the number of possible links. What is the density\n",
    "of each network?\n",
    "\n",
    "* Density of the network = number of links in the network/number of all possible links  \n",
    "* number of possible all links among $n$ nodes = $n.(n-1)/2 $ for an undirected graph"
   ]
  },
  {
   "cell_type": "code",
   "execution_count": null,
   "metadata": {
    "colab": {
     "base_uri": "https://localhost:8080/"
    },
    "id": "-e-EZBJSXUKu",
    "outputId": "91f1e0dc-fe51-4834-aab9-71cc1293f35f"
   },
   "outputs": [],
   "source": [
    "# Density of the small network - Since adjacency matrix is symmetric, all the connections will be double counted\n",
    "density = np.sum(adj_mat_small)/((n_individuals_small**2) - n_individuals_small)\n",
    "print(\"Density of the small network: \",density)\n",
    "\n",
    "# Density of the large network\n",
    "density = np.sum(adj_mat_large)/((n_individuals_large**2) - n_individuals_large)\n",
    "print(\"Density of the large network: \",density)"
   ]
  },
  {
   "cell_type": "markdown",
   "metadata": {
    "id": "F-VZ0L2Lx2A3"
   },
   "source": [
    "# Problem 1.b - Shortest Path\n",
    "(b) For job seekers, LinkedIn has become an invaluable resource for finding connections at\n",
    "companies they are interested in obtaining a job offer from. The website provides a\n",
    "platform for people to connect with professional contacts. Suppose the networks in the\n",
    "examples are a part of the LinkedIn network and you, the person with index 1, are\n",
    "seeking a job at a company where individual 16 works. What is the fewest number\n",
    "of connections between you and individual 16? What is the path from you to that\n",
    "individuals, in each of the networks?\n",
    "\n",
    "* Fewest number of connections between two nodes in a network = number of connections in the shortest path between source node and destination node = length of shortest path - 1."
   ]
  },
  {
   "cell_type": "code",
   "execution_count": null,
   "metadata": {
    "id": "AzGgpXPaZvCL"
   },
   "outputs": [],
   "source": [
    "# declaring source and destination nodes between which shortest path need to be found out(based on zero indexing)\n",
    "source_node = 0\n",
    "destination_node = 15"
   ]
  },
  {
   "cell_type": "markdown",
   "metadata": {
    "id": "p_mTMbCxhtpq"
   },
   "source": [
    "### Small Network"
   ]
  },
  {
   "cell_type": "code",
   "execution_count": null,
   "metadata": {
    "colab": {
     "base_uri": "https://localhost:8080/"
    },
    "id": "QMREnLf405AY",
    "outputId": "506a4bca-73e3-4ad5-9c43-21ad1d9dca9c"
   },
   "outputs": [],
   "source": [
    "#Create a Model\n",
    "model = ConcreteModel()\n",
    "\n",
    "#Variables\n",
    "model.x = Var(range(n_individuals_small),range(n_individuals_small),within=Binary)\n",
    "\n",
    "# Objective Function\n",
    "objective_expr = 0\n",
    "for i in range(n_individuals_small):\n",
    "  for j in range(n_individuals_small):\n",
    "    objective_expr += model.x[i,j]*adj_mat_small[i,j]\n",
    "\n",
    "model.objective_expr = Objective(expr=objective_expr,sense=minimize)\n",
    "\n",
    "# Constraints\n",
    "# There cannot exist a path between nodes that are not connected\n",
    "model.does_not_exist_constraints = ConstraintList()\n",
    "for i in range(n_individuals_small):\n",
    "  for j in range(n_individuals_small):\n",
    "    if adj_mat_small[i,j] < 0.001:\n",
    "      model.does_not_exist_constraints.add(model.x[i,j] == 0)\n",
    "\n",
    "#Node flow constraints\n",
    "#for all the intermediate nodes : number of outgoing edges - number of incoming edges = 0\n",
    "# for source node : number of outgoing edges - number of incoming edges = 1\n",
    "# for destination node : number of outgoing edges - number of incoming edges = -1\n",
    "model.node_flow = ConstraintList()\n",
    "for i in range(n_individuals_small):\n",
    "  node_incoming_total = 0\n",
    "  node_outgoing_total = 0\n",
    "  for j in range(n_individuals_small):\n",
    "    node_outgoing_total += model.x[i,j]\n",
    "    node_incoming_total += model.x[j,i]\n",
    "  if i==source_node:\n",
    "    model.node_flow.add(node_outgoing_total-node_incoming_total == 1)\n",
    "  elif i==destination_node:\n",
    "    model.node_flow.add(node_outgoing_total-node_incoming_total == -1)\n",
    "  else:\n",
    "    model.node_flow.add(node_outgoing_total-node_incoming_total == 0)\n",
    "\n",
    "\n",
    "model.pprint()\n",
    "\n",
    "SolverFactory('cbc').solve(model, tee=True).write()"
   ]
  },
  {
   "cell_type": "code",
   "execution_count": null,
   "metadata": {
    "colab": {
     "base_uri": "https://localhost:8080/"
    },
    "id": "o3jcBiNh8thz",
    "outputId": "7382fa6c-c837-4479-98ad-dd8a62779cb2"
   },
   "outputs": [],
   "source": [
    "#print the shortest path from source to destination\n",
    "for i in range(n_individuals_small):\n",
    "  for j in range(n_individuals_small):\n",
    "    if model.x[i,j]() > 0.5:\n",
    "      print(i+1, \"-->\", j+1)\n",
    "print(\"Shortest Path length: \",model.objective_expr())\n",
    "print(\"Fewest number of connections between source and destination \",model.objective_expr()-1)"
   ]
  },
  {
   "cell_type": "markdown",
   "metadata": {
    "id": "njlO35c5h2V5"
   },
   "source": [
    "### Large Network"
   ]
  },
  {
   "cell_type": "code",
   "execution_count": null,
   "metadata": {
    "colab": {
     "base_uri": "https://localhost:8080/"
    },
    "id": "8g6z_EvXh1Hn",
    "outputId": "a602b49d-6ec9-4486-e4ad-1869d10bc765"
   },
   "outputs": [],
   "source": [
    "#Create a Model\n",
    "model = ConcreteModel()\n",
    "\n",
    "#Variables\n",
    "model.x = Var(range(n_individuals_large),range(n_individuals_large),within=Binary)\n",
    "\n",
    "# Objective Function\n",
    "objective_expr = 0\n",
    "for i in range(n_individuals_large):\n",
    "  for j in range(n_individuals_large):\n",
    "    objective_expr += model.x[i,j]*adj_mat_large[i,j]\n",
    "\n",
    "model.objective_expr = Objective(expr=objective_expr,sense=minimize)\n",
    "\n",
    "# Constraints\n",
    "# There cannot exist a path between nodes that are not connected\n",
    "model.does_not_exist_constraints = ConstraintList()\n",
    "for i in range(n_individuals_large):\n",
    "  for j in range(n_individuals_large):\n",
    "    if adj_mat_large[i,j] < 0.001:\n",
    "      model.does_not_exist_constraints.add(model.x[i,j] == 0)\n",
    "\n",
    "#Node flow constraints\n",
    "#for all the intermediate nodes : number of outgoing edges - number of incoming edges = 0\n",
    "# for source node : number of outgoing edges - number of incoming edges = 1\n",
    "# for destination node : number of outgoing edges - number of incoming edges = -1\n",
    "model.node_flow = ConstraintList()\n",
    "for i in range(n_individuals_large):\n",
    "  node_incoming_total = 0\n",
    "  node_outgoing_total = 0\n",
    "  for j in range(n_individuals_large):\n",
    "    node_outgoing_total += model.x[i,j]\n",
    "    node_incoming_total += model.x[j,i]\n",
    "  if i==source_node:\n",
    "    model.node_flow.add(node_outgoing_total-node_incoming_total == 1)\n",
    "  elif i==destination_node:\n",
    "    model.node_flow.add(node_outgoing_total-node_incoming_total == -1)\n",
    "  else:\n",
    "    model.node_flow.add(node_outgoing_total-node_incoming_total == 0)\n",
    "\n",
    "\n",
    "model.pprint()\n",
    "\n",
    "SolverFactory('cbc').solve(model, tee=True).write()"
   ]
  },
  {
   "cell_type": "code",
   "execution_count": null,
   "metadata": {
    "colab": {
     "base_uri": "https://localhost:8080/"
    },
    "id": "ruY-p28zi4NU",
    "outputId": "65255579-1186-4334-8252-3800b799194b"
   },
   "outputs": [],
   "source": [
    "#print the shortest path from source to destination\n",
    "for i in range(n_individuals_large):\n",
    "  for j in range(n_individuals_large):\n",
    "    if model.x[i,j]() > 0.5:\n",
    "      print(i+1, \"-->\", j+1)\n",
    "print(\"Shortest Path length: \",model.objective_expr())\n",
    "print(\"Fewest number of connections between source and destination \",model.objective_expr()-1)"
   ]
  },
  {
   "cell_type": "markdown",
   "metadata": {
    "id": "W3OXIKjKxxJQ"
   },
   "source": [
    "# Problem 1.c - Diversity\n",
    "Diversity in a social network gives a measure of how different people in a social network\n",
    "are, and hence a measure of the potential for new, interesting connections. Although there are several ways of measuring diversity, in the problem, you are to determine, for both networks, what is the size of the largest group of people, no two of which are connected to each other.\n",
    "* Size of largest group of people no two of which are connected to each other\n",
    "\n"
   ]
  },
  {
   "cell_type": "markdown",
   "metadata": {
    "id": "L_yd1EGFkaP1"
   },
   "source": [
    "### Small Network"
   ]
  },
  {
   "cell_type": "code",
   "execution_count": null,
   "metadata": {
    "colab": {
     "base_uri": "https://localhost:8080/"
    },
    "id": "_VkMGzuHi62C",
    "outputId": "b473babd-c6db-44cd-8150-902205cdeb68"
   },
   "outputs": [],
   "source": [
    "#Create a Model\n",
    "model = ConcreteModel()\n",
    "\n",
    "#Variables - 0/1 variable indicating whether each of the user is in the diverse group or not\n",
    "model.x = Var(range(n_individuals_small),within=Binary)\n",
    "\n",
    "# Objective Function\n",
    "objective_expr = 0\n",
    "for i in range(n_individuals_small):\n",
    "    objective_expr += model.x[i]\n",
    "\n",
    "model.objective_expr = Objective(expr=objective_expr,sense=maximize)\n",
    "\n",
    "# Constraints\n",
    "# Any two nodes should not be directly connected to each other in a diverse group\n",
    "# if a node is present, all its connected nodes should not be present in the group\n",
    "model.connected_nodes = ConstraintList()\n",
    "for i in range(n_individuals_small):\n",
    "  sum_connected_nodes_expr =0\n",
    "  total_connected_nodes = 0\n",
    "  for j in range(n_individuals_small):\n",
    "    sum_connected_nodes_expr += model.x[j]*adj_mat_small[i][j]\n",
    "    total_connected_nodes += adj_mat_small[i][j]\n",
    "  model.connected_nodes.add(sum_connected_nodes_expr <= total_connected_nodes*(1-model.x[i]))\n",
    "  \n",
    "\n",
    "model.pprint()\n",
    "\n",
    "SolverFactory('cbc').solve(model, tee=True).write()#couenne"
   ]
  },
  {
   "cell_type": "code",
   "execution_count": null,
   "metadata": {
    "colab": {
     "base_uri": "https://localhost:8080/"
    },
    "id": "Xkg_4Yn9WFWB",
    "outputId": "7b0980d9-894e-47d1-9a89-853fbc4caf90"
   },
   "outputs": [],
   "source": [
    "#print the members of largest diverse group - Small Network\n",
    "for i in range(n_individuals_small):\n",
    "  if model.x[i]() > 0.5:\n",
    "    print(i+1, end=\"\\t\")\n",
    "print(\"\\n\")\n",
    "print(\"Size of largest diverse group: \",model.objective_expr())"
   ]
  },
  {
   "cell_type": "markdown",
   "metadata": {
    "id": "sOYHAo7TkdZ7"
   },
   "source": [
    "### Large Network"
   ]
  },
  {
   "cell_type": "code",
   "execution_count": null,
   "metadata": {
    "colab": {
     "base_uri": "https://localhost:8080/"
    },
    "id": "n0U1zn0TkhnP",
    "outputId": "6f031a5b-63bf-4488-ae76-9101ac36f263"
   },
   "outputs": [],
   "source": [
    "#Create a Model\n",
    "model = ConcreteModel()\n",
    "\n",
    "#Variables - 0/1 variable indicating whether each of the user is in the diverse group or not\n",
    "model.x = Var(range(n_individuals_large),within=Binary)\n",
    "\n",
    "# Objective Function\n",
    "objective_expr = 0\n",
    "for i in range(n_individuals_large):\n",
    "    objective_expr += model.x[i]\n",
    "\n",
    "model.objective_expr = Objective(expr=objective_expr,sense=maximize)\n",
    "\n",
    "# Constraints\n",
    "# Any two nodes should not be directly connected to each other in a diverse group\n",
    "# if a node is present, all its connected nodes should not be present in the group\n",
    "model.connected_nodes = ConstraintList()\n",
    "for i in range(n_individuals_large):\n",
    "  sum_connected_nodes_expr =0\n",
    "  total_connected_nodes = 0\n",
    "  for j in range(n_individuals_large):\n",
    "    sum_connected_nodes_expr += model.x[j]*adj_mat_large[i][j]\n",
    "    total_connected_nodes += adj_mat_large[i][j]\n",
    "  model.connected_nodes.add(sum_connected_nodes_expr <= total_connected_nodes*(1-model.x[i]))\n",
    "  \n",
    "\n",
    "model.pprint()\n",
    "\n",
    "SolverFactory('cbc').solve(model, tee=True).write()#couenne"
   ]
  },
  {
   "cell_type": "code",
   "execution_count": null,
   "metadata": {
    "colab": {
     "base_uri": "https://localhost:8080/"
    },
    "id": "UwnRm2FIk7Ay",
    "outputId": "085aadd6-63cf-49f0-adab-23f4c356269f"
   },
   "outputs": [],
   "source": [
    "#print the members of largest diverse group - Large Network\n",
    "for i in range(n_individuals_large):\n",
    "  if model.x[i]() > 0.5:\n",
    "    print(i+1, end=\"\\t\")\n",
    "print(\"\\n\")\n",
    "print(\"Size of largest diverse group: \",model.objective_expr())"
   ]
  },
  {
   "cell_type": "markdown",
   "metadata": {
    "id": "KfcFkIOS9uke"
   },
   "source": [
    "# Problem 1.d - Cliques\n",
    "Cliques are also of interest. A clique is a group of people, all of whom know each other.\n",
    "The larger the cliques in a network, the more interconnected it is. What is the size of the\n",
    "largest clique in each network? Which individuals are in the largest cliques? Can you\n",
    "find any other cliques of the same size within the respective networks? Find as many as\n",
    "you can.\n",
    "* Size of largest group of people, all of whom know each other"
   ]
  },
  {
   "cell_type": "markdown",
   "metadata": {
    "id": "sG_2J9eLoOic"
   },
   "source": [
    "### Small Network"
   ]
  },
  {
   "cell_type": "code",
   "execution_count": null,
   "metadata": {
    "colab": {
     "base_uri": "https://localhost:8080/"
    },
    "id": "S4bDy_Rxdxb4",
    "outputId": "e4594bd6-185d-4be1-c667-4889594929ca"
   },
   "outputs": [],
   "source": [
    "#Create a Model\n",
    "model = ConcreteModel()\n",
    "\n",
    "#Variables - 0/1 variable indicating whether each of the user is in the clique or not\n",
    "model.x = Var(range(n_individuals_small),within=Binary)\n",
    "\n",
    "# Objective Function\n",
    "objective_expr = 0\n",
    "for i in range(n_individuals_small):\n",
    "    objective_expr += model.x[i]\n",
    "\n",
    "model.objective_expr = Objective(expr=objective_expr,sense=maximize)\n",
    "\n",
    "# Constraints\n",
    "# Any two nodes should  be directly connected to each other in a clique\n",
    "# if a node is present, all its non-connected nodes should not be present in the clique\n",
    "model.non_connected_nodes = ConstraintList()\n",
    "for i in range(n_individuals_small):\n",
    "  sum_non_connected_nodes_expr =0\n",
    "  total_non_connected_nodes = 0\n",
    "  for j in range(n_individuals_small):\n",
    "    if j!= i:\n",
    "      sum_non_connected_nodes_expr += model.x[j]*(1-adj_mat_small[i][j])\n",
    "      total_non_connected_nodes += (1-adj_mat_small[i][j])\n",
    "  model.non_connected_nodes.add(sum_non_connected_nodes_expr <= total_non_connected_nodes*(1-model.x[i]))\n",
    "  \n",
    "\n",
    "model.pprint()\n",
    "\n",
    "SolverFactory('cbc').solve(model, tee=True).write()"
   ]
  },
  {
   "cell_type": "code",
   "execution_count": null,
   "metadata": {
    "colab": {
     "base_uri": "https://localhost:8080/"
    },
    "id": "znGrtcOgikJB",
    "outputId": "18724f8e-3de3-4896-da4c-dfe6d5d6d48f"
   },
   "outputs": [],
   "source": [
    "#print the members of largest clique - Small network\n",
    "for i in range(n_individuals_small):\n",
    "  if model.x[i]() > 0.5:\n",
    "    print(i+1, end=\"\\t\")\n",
    "print(\"\\n\")\n",
    "print(\"size of largest clique: \",model.objective_expr())"
   ]
  },
  {
   "cell_type": "markdown",
   "metadata": {
    "id": "2ryM0kMtpG_4"
   },
   "source": [
    "### Other cliques of same size within the network"
   ]
  },
  {
   "cell_type": "code",
   "execution_count": null,
   "metadata": {
    "colab": {
     "base_uri": "https://localhost:8080/"
    },
    "id": "3y57Oal3pHe3",
    "outputId": "3640b405-40fc-43ce-e768-720caebb509f"
   },
   "outputs": [],
   "source": [
    "# Adding constraints to not select the optimal solution selected thus far, but have same optimal value\n",
    "optimal_value = model.objective_expr()\n",
    "model.solution_constraint = ConstraintList()\n",
    "while True:\n",
    "  sum_solution_expr = 0\n",
    "  for i in range(n_individuals_small):\n",
    "    if model.x[i]() > 0.5:\n",
    "      sum_solution_expr += model.x[i]\n",
    "    else:\n",
    "      sum_solution_expr += (1-model.x[i])\n",
    "  model.solution_constraint.add(sum_solution_expr<=n_individuals_small - 1)\n",
    "  SolverFactory('cbc').solve(model, tee=False)#.write()\n",
    "  if (model.objective_expr() < optimal_value-0.5):\n",
    "    break\n",
    "  for i in range(n_individuals_small):\n",
    "    if model.x[i]() > 0.5:\n",
    "      print(i+1, end=\"\\t\")\n",
    "  print(\"\\n\")\n",
    "  print(\"size of this clique: \",model.objective_expr())\n",
    "\n"
   ]
  },
  {
   "cell_type": "markdown",
   "metadata": {
    "id": "WQIgZT_joSAd"
   },
   "source": [
    "### Large Network"
   ]
  },
  {
   "cell_type": "code",
   "execution_count": null,
   "metadata": {
    "colab": {
     "base_uri": "https://localhost:8080/"
    },
    "id": "cfcYuC-VoUL6",
    "outputId": "44fb24d9-47a3-43c7-eb9a-88fe2ccd47f6"
   },
   "outputs": [],
   "source": [
    "#Create a Model\n",
    "model = ConcreteModel()\n",
    "\n",
    "#Variables - 0/1 variable indicating whether each of the user is in the clique or not\n",
    "model.x = Var(range(n_individuals_large),within=Binary)\n",
    "\n",
    "# Objective Function\n",
    "objective_expr = 0\n",
    "for i in range(n_individuals_large):\n",
    "    objective_expr += model.x[i]\n",
    "\n",
    "model.objective_expr = Objective(expr=objective_expr,sense=maximize)\n",
    "\n",
    "# Constraints\n",
    "# Any two nodes should  be directly connected to each other in a clique\n",
    "# if a node is present, all its non-connected nodes should not be present in the clique\n",
    "model.non_connected_nodes = ConstraintList()\n",
    "for i in range(n_individuals_large):\n",
    "  sum_non_connected_nodes_expr =0\n",
    "  total_non_connected_nodes = 0\n",
    "  for j in range(n_individuals_large):\n",
    "    if j!= i:\n",
    "      sum_non_connected_nodes_expr += model.x[j]*(1-adj_mat_large[i][j])\n",
    "      total_non_connected_nodes += (1-adj_mat_large[i][j])\n",
    "  model.non_connected_nodes.add(sum_non_connected_nodes_expr <= total_non_connected_nodes*(1-model.x[i]))\n",
    "  \n",
    "\n",
    "model.pprint()\n",
    "\n",
    "SolverFactory('cbc').solve(model, tee=True).write()"
   ]
  },
  {
   "cell_type": "code",
   "execution_count": null,
   "metadata": {
    "colab": {
     "base_uri": "https://localhost:8080/"
    },
    "id": "54w_A3IOoTwj",
    "outputId": "6b3ce59f-875c-40af-ce53-a34017542a9b"
   },
   "outputs": [],
   "source": [
    "#print the members of largest clique - Large network\n",
    "for i in range(n_individuals_large):\n",
    "  if model.x[i]() > 0.5:\n",
    "    print(i+1, end=\"\\t\")\n",
    "print(\"\\n\")\n",
    "print(\"size of largest clique: \",model.objective_expr())"
   ]
  },
  {
   "cell_type": "markdown",
   "metadata": {
    "id": "FvTxcpU7kcg7"
   },
   "source": [
    "### Other cliques of same size within the network"
   ]
  },
  {
   "cell_type": "code",
   "execution_count": null,
   "metadata": {
    "colab": {
     "base_uri": "https://localhost:8080/"
    },
    "id": "TvHBQO0Lkl6e",
    "outputId": "5de6485d-91d6-4e0e-c74d-378bc095ec00"
   },
   "outputs": [],
   "source": [
    "# Adding constraints to not select the optimal solution thus far, but have same optimal value\n",
    "optimal_value = model.objective_expr()\n",
    "model.solution_constraint = ConstraintList()\n",
    "while True:\n",
    "  sum_solution_expr = 0\n",
    "  for i in range(n_individuals_large):\n",
    "    if model.x[i]() > 0.5:\n",
    "      sum_solution_expr += model.x[i]\n",
    "    else:\n",
    "      sum_solution_expr += (1-model.x[i])\n",
    "  model.solution_constraint.add(sum_solution_expr<=n_individuals_large - 1)\n",
    "  SolverFactory('cbc').solve(model, tee=False)#.write()\n",
    "  if (model.objective_expr() < optimal_value-0.5):\n",
    "    break\n",
    "  for i in range(n_individuals_large):\n",
    "    if model.x[i]() > 0.5:\n",
    "      print(i+1, end=\"\\t\")\n",
    "  print(\"\\n\")\n",
    "  print(\"size of this clique: \",model.objective_expr())\n",
    "\n"
   ]
  },
  {
   "cell_type": "markdown",
   "metadata": {
    "id": "rTQxvh5yIT4i"
   },
   "source": [
    "# Problem 2.a - Linkedin Premium free trial\n",
    "Perhaps the industry that has found the most use of present day SNA is marketing. SNA\n",
    "gives a way of connecting with customers, and in the following problems you will answer\n",
    "questions that are of interest to marketers. This will be in the context of LinkedIn, but you\n",
    "can also think of this any company deciding who to market new products or services to in\n",
    "order to reach the most number of other people in the network.\n",
    "\n",
    "LinkedIn is a Freemium service. Membership is free, but there is also a paid membership where you get additional services. In order to promote the paid membership, the\n",
    "company often releases one-month ‘trials’ to individuals on the site to temp them into\n",
    "buying the service after the promotion expires. But, it is not only these individuals\n",
    "that they are tempting — everyone connected to someone with a paid membership (or\n",
    "with a current trial) sees that their connection has the paid membership, which thereby\n",
    "encourages them as well to pay for a membership. LinkedIn would like to run a promotion for its paid memberships, and wants to release the fewest number of trials while\n",
    "ensuring that everyone in the network is connected to at least one person who is given a\n",
    "free trial. Suppose that in the networks provided, no individual has a pair membership,\n",
    "yet. What is the fewest number of people that the trial should be given to in order for\n",
    "every individual to be either given the trial, or be connected directly to someone who\n",
    "has? Answer this for both networks.\n",
    "\n",
    "* fewest number of people to be offered a trial such that every individual is connected to atleast one person who is offered a trial"
   ]
  },
  {
   "cell_type": "markdown",
   "metadata": {
    "id": "geK6MEU_vGfV"
   },
   "source": [
    "### Small network"
   ]
  },
  {
   "cell_type": "code",
   "execution_count": null,
   "metadata": {
    "colab": {
     "base_uri": "https://localhost:8080/"
    },
    "id": "E6T_DHfFr8Id",
    "outputId": "d130c003-bf74-4e40-cae8-bc094ea4d007"
   },
   "outputs": [],
   "source": [
    "#Create a Model\n",
    "model = ConcreteModel()\n",
    "\n",
    "#Variables - 0/1 variable indicating whether each of the user is given a free trial or not\n",
    "model.x = Var(range(n_individuals_small),within=Binary)\n",
    "\n",
    "# Objective Function\n",
    "objective_expr = 0\n",
    "for i in range(n_individuals_small):\n",
    "    objective_expr += model.x[i]\n",
    "\n",
    "model.objective_expr = Objective(expr=objective_expr,sense=minimize)\n",
    "\n",
    "# Constraints\n",
    "# if a node is not given a free trial, atleast one of its connected nodes should be given a free trial\n",
    "model.connected_nodes = ConstraintList()\n",
    "for i in range(n_individuals_small):\n",
    "  sum_connected_nodes_expr =0\n",
    "  total_connected_nodes = 0\n",
    "  for j in range(n_individuals_small):\n",
    "    sum_connected_nodes_expr += model.x[j]*adj_mat_small[i][j]\n",
    "    total_connected_nodes += adj_mat_small[i][j]\n",
    "  model.connected_nodes.add(sum_connected_nodes_expr <= total_connected_nodes*(1-model.x[i]))\n",
    "  model.connected_nodes.add(sum_connected_nodes_expr >= (1-model.x[i]))\n",
    "  \n",
    "\n",
    "model.pprint()\n",
    "\n",
    "SolverFactory('cbc').solve(model, tee=True).write()"
   ]
  },
  {
   "cell_type": "code",
   "execution_count": null,
   "metadata": {
    "colab": {
     "base_uri": "https://localhost:8080/"
    },
    "id": "trOvlEuSr8E8",
    "outputId": "1fd05984-1403-4855-f595-bbedafb7625d"
   },
   "outputs": [],
   "source": [
    "#print the users who should be offered a free trial so that everyone is else connected to atleast one user with free trial \n",
    "for i in range(n_individuals_small):\n",
    "  if model.x[i]() > 0.5:\n",
    "    print(i+1, end=\"\\t\")\n",
    "print(\"\\n\")\n",
    "print(\"fewest number of people to be offered linkedin free trial \",model.objective_expr())"
   ]
  },
  {
   "cell_type": "markdown",
   "metadata": {
    "id": "ja_CP5mQvK-n"
   },
   "source": [
    "### Large Network"
   ]
  },
  {
   "cell_type": "code",
   "execution_count": null,
   "metadata": {
    "colab": {
     "base_uri": "https://localhost:8080/"
    },
    "id": "IKvTKctovLz3",
    "outputId": "9feec0cc-a279-40ed-a621-41a9e63b26df"
   },
   "outputs": [],
   "source": [
    "#Create a Model\n",
    "model = ConcreteModel()\n",
    "\n",
    "#Variables - 0/1 variable indicating whether each of the user is given a free trial or not\n",
    "model.x = Var(range(n_individuals_large),within=Binary)\n",
    "\n",
    "# Objective Function\n",
    "objective_expr = 0\n",
    "for i in range(n_individuals_large):\n",
    "    objective_expr += model.x[i]\n",
    "\n",
    "model.objective_expr = Objective(expr=objective_expr,sense=minimize)\n",
    "\n",
    "# Constraints\n",
    "# if a node is not given a free trial, atleast one of its connected nodes should be given a free trial\n",
    "model.connected_nodes = ConstraintList()\n",
    "for i in range(n_individuals_large):\n",
    "  sum_connected_nodes_expr =0\n",
    "  total_connected_nodes = 0\n",
    "  for j in range(n_individuals_large):\n",
    "    sum_connected_nodes_expr += model.x[j]*adj_mat_large[i][j]\n",
    "    total_connected_nodes += adj_mat_large[i][j]\n",
    "  model.connected_nodes.add(sum_connected_nodes_expr <= total_connected_nodes*(1-model.x[i]))\n",
    "  model.connected_nodes.add(sum_connected_nodes_expr >= (1-model.x[i]))\n",
    "  \n",
    "\n",
    "model.pprint()\n",
    "\n",
    "SolverFactory('cbc').solve(model, tee=True).write()"
   ]
  },
  {
   "cell_type": "code",
   "execution_count": null,
   "metadata": {
    "colab": {
     "base_uri": "https://localhost:8080/"
    },
    "id": "HkENez_EvqoR",
    "outputId": "672ff272-a7bc-4407-ff05-fbd5b6ae3144"
   },
   "outputs": [],
   "source": [
    "#print the users who should be offered a free trial so that everyone is else connected to atleast one user with free trial \n",
    "for i in range(n_individuals_large):\n",
    "  if model.x[i]() > 0.5:\n",
    "    print(i+1, end=\"\\t\")\n",
    "print(\"\\n\")\n",
    "print(\"fewest number of people to be offered linkedin free trial \",model.objective_expr())"
   ]
  },
  {
   "cell_type": "markdown",
   "metadata": {
    "id": "tMd60wJ-wO4A"
   },
   "source": [
    "# Problem 2.b\n",
    "LinkedIn, like any company, has a limited budget and can only release the free trial to\n",
    "a limited number of individuals. If LinkedIn has only two free trials to release, which\n",
    "two individuals should they release the free trial to in order to maximize the number\n",
    "of people that are connected to someone who receives the trail? Answer this for both\n",
    "networks.\n",
    "* Given that only two free trials are available, which are two best people to offer, maximize number of people connected to those two people"
   ]
  },
  {
   "cell_type": "markdown",
   "metadata": {
    "id": "rzyBelUQwffZ"
   },
   "source": [
    "### Small Network"
   ]
  },
  {
   "cell_type": "code",
   "execution_count": null,
   "metadata": {
    "colab": {
     "base_uri": "https://localhost:8080/"
    },
    "id": "StDjYIO8Med_",
    "outputId": "75f400dc-7c1b-49fb-c6b5-29bb6083426b"
   },
   "outputs": [],
   "source": [
    "#Create a Model\n",
    "model = ConcreteModel()\n",
    "\n",
    "#Variables - 0/1 variable indicating whether each pair of nodes is chosen to be given a free trial or not\n",
    "model.x = Var(range(n_individuals_small),range(n_individuals_small),within=Binary)\n",
    "\n",
    "# Objective Function - total number of distinctly connected nodes to the selected node pair \n",
    "#pre-calculate a matrix connectedness, of shape n_individuals_small x n_individuals_small where connectedness[i,j] contains total number of distinctly connected\n",
    "#nodes to node_i and node_j (excluding  node_i , node_j)\n",
    "connectedness  = np.zeros((n_individuals_small,n_individuals_small))\n",
    "for i in range(n_individuals_small):\n",
    "  for j in range(n_individuals_small):\n",
    "    if j!=i:\n",
    "      connectedness[i,j] = sum(adj_mat_small[i]) + sum(adj_mat_small[j]) - 2*adj_mat_small[i,j] - np.dot(adj_mat_small[i],adj_mat_small[j])\n",
    "objective_expr = 0\n",
    "for i in range(n_individuals_small):\n",
    "  for j in range(n_individuals_small):\n",
    "    objective_expr += model.x[i,j]*connectedness[i,j]\n",
    "\n",
    "model.objective_expr = Objective(expr=objective_expr,sense=maximize)\n",
    "\n",
    "# Constraints\n",
    "# Only two individuals can be offered free trial\n",
    "# same individual cannot be offered two free trials\n",
    "model.budget_constraint =  ConstraintList()\n",
    "sum_free_trial_users = 0\n",
    "same_users_expr = 0\n",
    "for i in range(n_individuals_small):\n",
    "  for j in range(n_individuals_small):\n",
    "    sum_free_trial_users += model.x[i,j]\n",
    "  same_users_expr += model.x[i,i]\n",
    "\n",
    "model.budget_constraint.add(sum_free_trial_users == 1)\n",
    "model.budget_constraint.add(same_users_expr == 0)\n",
    "\n",
    "\n",
    "model.pprint()\n",
    "\n",
    "SolverFactory('cbc').solve(model, tee=True).write()"
   ]
  },
  {
   "cell_type": "code",
   "execution_count": null,
   "metadata": {
    "colab": {
     "base_uri": "https://localhost:8080/"
    },
    "id": "pMTn0MIUapWf",
    "outputId": "b67995ed-f312-442b-d184-96012924b654"
   },
   "outputs": [],
   "source": [
    "#print two best users that need to be offered a free trial\n",
    "for i in range(n_individuals_small):\n",
    "  for j in range(n_individuals_small):\n",
    "    if model.x[i,j]() > 0.5:\n",
    "      print(i+1, \"\\t\", j+1)\n",
    "print(\"Number of connections covered by offering these two free trials: \",model.objective_expr())"
   ]
  },
  {
   "cell_type": "markdown",
   "metadata": {
    "id": "bjzCc3yzw8gY"
   },
   "source": [
    "### Large Network"
   ]
  },
  {
   "cell_type": "code",
   "execution_count": null,
   "metadata": {
    "colab": {
     "base_uri": "https://localhost:8080/"
    },
    "id": "9yCqy93Tw8KM",
    "outputId": "ad10b172-ae49-41f9-cd8b-2e89022515db"
   },
   "outputs": [],
   "source": [
    "#Create a Model\n",
    "model = ConcreteModel()\n",
    "\n",
    "#Variables - 0/1 variable indicating whether each pair of nodes is chosen to be given a free trial or not\n",
    "model.x = Var(range(n_individuals_large),range(n_individuals_large),within=Binary)\n",
    "\n",
    "# Objective Function - total number of distinctly connected nodes to the selected node pair \n",
    "#pre-calculate a matrix connectedness, of shape n_individuals x n_individuals where connectedness[i,j] contains total number of distinctly connected\n",
    "#nodes to node_i and node_j (excluding  node_i , node_j)\n",
    "connectedness  = np.zeros((n_individuals_large,n_individuals_large))\n",
    "for i in range(n_individuals_large):\n",
    "  for j in range(n_individuals_large):\n",
    "    if j!=i:\n",
    "      connectedness[i,j] = sum(adj_mat_large[i]) + sum(adj_mat_large[j]) - 2*adj_mat_large[i,j] - np.dot(adj_mat_large[i],adj_mat_large[j])\n",
    "objective_expr = 0\n",
    "for i in range(n_individuals_large):\n",
    "  for j in range(n_individuals_large):\n",
    "    objective_expr += model.x[i,j]*connectedness[i,j]\n",
    "\n",
    "model.objective_expr = Objective(expr=objective_expr,sense=maximize)\n",
    "\n",
    "# Constraints\n",
    "# Only two individuals can be offered free trial\n",
    "# same individual cannot be offered two free trials\n",
    "model.budget_constraint =  ConstraintList()\n",
    "sum_free_trial_users = 0\n",
    "same_users_expr = 0\n",
    "for i in range(n_individuals_large):\n",
    "  for j in range(n_individuals_large):\n",
    "    sum_free_trial_users += model.x[i,j]\n",
    "  same_users_expr += model.x[i,i]\n",
    "\n",
    "model.budget_constraint.add(sum_free_trial_users == 1)\n",
    "model.budget_constraint.add(same_users_expr == 0)\n",
    "\n",
    "\n",
    "model.pprint()\n",
    "\n",
    "SolverFactory('cbc').solve(model, tee=True).write()"
   ]
  },
  {
   "cell_type": "code",
   "execution_count": null,
   "metadata": {
    "colab": {
     "base_uri": "https://localhost:8080/"
    },
    "id": "EO1zQd_JxfBf",
    "outputId": "cd35177e-873d-4ca7-8b3b-f701f1070647"
   },
   "outputs": [],
   "source": [
    "#print two best users that need to be offered a free trial\n",
    "for i in range(n_individuals_large):\n",
    "  for j in range(n_individuals_large):\n",
    "    if model.x[i,j]() > 0.5:\n",
    "      print(i+1, \"\\t\", j+1)\n",
    "print(\"\\n\")\n",
    "print(\"Number of connections covered by offering these two free trials: \",model.objective_expr())"
   ]
  },
  {
   "cell_type": "markdown",
   "metadata": {
    "id": "oqqoXbbnhddZ"
   },
   "source": [
    "# Problem 3 - Cluster Analysis"
   ]
  },
  {
   "cell_type": "markdown",
   "metadata": {
    "id": "y0KEt8re6fpd"
   },
   "source": [
    "### Small Network\n",
    "\n",
    "Cluster analysis is one of the most common tasks in statistical data analysis and data mining,\n",
    "consisting of grouping a set of objects in such a way that the objects within each group (called\n",
    "a cluster ) are very similar. Using the networks provided, suppose that the links indicate if\n",
    "two individuals cannot be in the same cluster because they are not compatible (note, this is\n",
    "a different interpretation of the links than what was assumed previously). Find the minimum\n",
    "number of clusters necessary to cover each of the individuals so that individuals in each cluster\n",
    "are all linked to each other."
   ]
  },
  {
   "cell_type": "code",
   "execution_count": null,
   "metadata": {
    "colab": {
     "base_uri": "https://localhost:8080/"
    },
    "id": "FqiaHGXmmc3G",
    "outputId": "35e967d5-2dd2-4c91-cae8-c6209b555390"
   },
   "outputs": [],
   "source": [
    "#Create a Model\n",
    "model = ConcreteModel()\n",
    "\n",
    "# Variables x (n_clusters, n_individuals) - binary variable indicates whether a user is a part of a cluster or not\n",
    "# y - indicates whether there exists an element in that cluster or not \n",
    "n_clusters = n_individuals_small\n",
    "model.x = Var(range(n_clusters),range(n_individuals_small),within=Binary)\n",
    "model.y = Var(range(n_clusters),within=Binary)\n",
    "\n",
    "# Objective Function\n",
    "objective_expr = 0\n",
    "for i in range(n_clusters):\n",
    "    objective_expr += model.y[i]\n",
    "\n",
    "model.objective_expr = Objective(expr=objective_expr,sense=minimize)\n",
    "\n",
    "# Constraints\n",
    "# Each node should be there in exactly one cluster\n",
    "model.cluster_individual = ConstraintList()\n",
    "\n",
    "for j in range(n_individuals_small):\n",
    "  cluster_per_individual_expr = 0\n",
    "  for i in range(n_clusters):\n",
    "    cluster_per_individual_expr += model.x[i,j]\n",
    "  model.cluster_individual.add(cluster_per_individual_expr == 1)\n",
    "\n",
    "# Each cluster can have only those nodes that are all connected to each other \n",
    "# For all the clusters, if a node is present in a cluster, all the incompatible nodes cannot be present in the same cluster\n",
    "model.connected_cluster = ConstraintList()\n",
    "for i in range(n_clusters):\n",
    "  for j in range(n_individuals_small):\n",
    "    incompatible_nodes = sum([adj_mat_small[j,k]*model.x[i,k] for k in range(n_individuals_small)])\n",
    "    model.connected_cluster.add(model.x[i,j]<= 1- incompatible_nodes)\n",
    "\n",
    "#channeling constraints\n",
    "# y[i] = 1 if there is atleast one element in the cluster,  0 otherwise\n",
    "model.chanelling_constraint = ConstraintList()\n",
    "nodes_in_cluster_expr = 0\n",
    "for i in range(n_clusters):\n",
    "  for j in range(n_individuals_small):\n",
    "    nodes_in_cluster_expr += model.x[i,j]\n",
    "  model.chanelling_constraint.add(nodes_in_cluster_expr>=model.y[i])\n",
    "  model.chanelling_constraint.add(nodes_in_cluster_expr<=n_individuals_small*model.y[i])\n",
    "\n",
    "model.pprint()\n",
    "\n",
    "SolverFactory('cbc').solve(model, tee=True).write()"
   ]
  },
  {
   "cell_type": "code",
   "execution_count": null,
   "metadata": {
    "colab": {
     "base_uri": "https://localhost:8080/"
    },
    "id": "MaGJ0rVtOQWK",
    "outputId": "395aad38-bc84-4b3a-ca14-ddef62022533"
   },
   "outputs": [],
   "source": [
    "#print cluster number and users assigned to each cluster\n",
    "for i in range(n_clusters):\n",
    "  if model.y[i]() > 0.5:\n",
    "    print (i+1, end=\":\\t\")\n",
    "    for j in range(n_individuals_small):\n",
    "      if model.x[i,j]() > 0.5:\n",
    "        print(j+1, end=\"\\t\")\n",
    "    print(\"\\n\")\n",
    "print(\"Minimum number of clusters such that every person in the cluster is linked to each other: \",model.objective_expr())"
   ]
  },
  {
   "cell_type": "markdown",
   "metadata": {
    "id": "Gw3kZcqW6bmn"
   },
   "source": [
    "### Large network"
   ]
  },
  {
   "cell_type": "code",
   "execution_count": null,
   "metadata": {
    "colab": {
     "base_uri": "https://localhost:8080/"
    },
    "id": "zYa62x97Rh2T",
    "outputId": "0233d5e8-679e-4c4e-e928-72721886a730"
   },
   "outputs": [],
   "source": [
    "#Create a Model\n",
    "model = ConcreteModel()\n",
    "\n",
    "# Variables x (n_clusters, n_individuals) - binary variable indicates whether a user is a part of a cluster or not\n",
    "# y - indicates whether there exists an element in that cluster or not \n",
    "n_clusters = n_individuals_large\n",
    "model.x = Var(range(n_clusters),range(n_individuals_large),within=Binary)\n",
    "model.y = Var(range(n_clusters),within=Binary)\n",
    "\n",
    "# Objective Function\n",
    "objective_expr = 0\n",
    "for i in range(n_clusters):\n",
    "    objective_expr += model.y[i]\n",
    "\n",
    "model.objective_expr = Objective(expr=objective_expr,sense=minimize)\n",
    "\n",
    "# Constraints\n",
    "# Each node should be there in exactly one cluster\n",
    "model.cluster_individual = ConstraintList()\n",
    "\n",
    "for j in range(n_individuals_large):\n",
    "  cluster_per_individual_expr = 0\n",
    "  for i in range(n_clusters):\n",
    "    cluster_per_individual_expr += model.x[i,j]\n",
    "  model.cluster_individual.add(cluster_per_individual_expr == 1)\n",
    "\n",
    "# Each cluster can have only those nodes that are all connected to each other \n",
    "# For all the clusters, if a node is present in a cluster, all the incompatible nodes cannot be present in the same cluster\n",
    "model.connected_cluster = ConstraintList()\n",
    "for i in range(n_clusters):\n",
    "  for j in range(n_individuals_large):\n",
    "    incompatible_nodes = sum([adj_mat_large[j,k]*model.x[i,k] for k in range(n_individuals_large)])\n",
    "    model.connected_cluster.add(model.x[i,j]<= 1- incompatible_nodes)\n",
    "\n",
    "#channeling constraints\n",
    "# y[i] = 1 if there is atleast one element in the cluster,  0 otherwise\n",
    "model.chanelling_constraint = ConstraintList()\n",
    "nodes_in_cluster_expr = 0\n",
    "for i in range(n_clusters):\n",
    "  for j in range(n_individuals_large):\n",
    "    nodes_in_cluster_expr += model.x[i,j]\n",
    "  model.chanelling_constraint.add(nodes_in_cluster_expr>=model.y[i])\n",
    "  model.chanelling_constraint.add(nodes_in_cluster_expr<=n_individuals_large*model.y[i])\n",
    "\n",
    "model.pprint()\n",
    "\n",
    "SolverFactory('cbc').solve(model, tee=True).write()"
   ]
  },
  {
   "cell_type": "code",
   "execution_count": null,
   "metadata": {
    "colab": {
     "base_uri": "https://localhost:8080/"
    },
    "id": "I3OlglMzRhyu",
    "outputId": "d4ad4844-4c44-40cb-96e5-5073c4806485"
   },
   "outputs": [],
   "source": [
    "#print cluster number and users assigned to each cluster\n",
    "for i in range(n_clusters):\n",
    "  if model.y[i]() > 0.5:\n",
    "    print (i+1, end=\":\\t\")\n",
    "    for j in range(n_individuals_large):\n",
    "      if model.x[i,j]() > 0.5:\n",
    "        print(j+1, end=\"\\t\")\n",
    "    print(\"\\n\")\n",
    "print(\"\\n\")\n",
    "print(\"Minimum number of clusters such that every person in the cluster is linked to each other: \",model.objective_expr())"
   ]
  },
  {
   "cell_type": "code",
   "execution_count": null,
   "metadata": {
    "id": "mWP-N6rQOpcC"
   },
   "outputs": [],
   "source": []
  }
 ],
 "metadata": {
  "colab": {
   "collapsed_sections": [
    "p_mTMbCxhtpq",
    "njlO35c5h2V5",
    "L_yd1EGFkaP1",
    "sOYHAo7TkdZ7",
    "sG_2J9eLoOic",
    "2ryM0kMtpG_4",
    "WQIgZT_joSAd",
    "FvTxcpU7kcg7",
    "geK6MEU_vGfV",
    "ja_CP5mQvK-n",
    "rzyBelUQwffZ",
    "bjzCc3yzw8gY",
    "y0KEt8re6fpd",
    "Gw3kZcqW6bmn"
   ],
   "provenance": []
  },
  "kernelspec": {
   "display_name": "Python 3 (ipykernel)",
   "language": "python",
   "name": "python3"
  },
  "language_info": {
   "codemirror_mode": {
    "name": "ipython",
    "version": 3
   },
   "file_extension": ".py",
   "mimetype": "text/x-python",
   "name": "python",
   "nbconvert_exporter": "python",
   "pygments_lexer": "ipython3",
   "version": "3.12.3"
  }
 },
 "nbformat": 4,
 "nbformat_minor": 4
}
